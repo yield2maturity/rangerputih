{
 "cells": [
  {
   "cell_type": "markdown",
   "metadata": {},
   "source": [
    "**Bagian 1: Panel Data**\n",
    "\n",
    "(Data yang disajikan berikut adalah data tingkat negara yang sudah diolah dari **World Development Indicators** Bank Dunia). Anda diberikan data investasi asing dan pertumbuhan ekonomi tahunan tujuh negara di Asia dari tahun 1990 sampai 2019 yaitu Tiongkok, India, Vietnam, Malaysia, Indonesia, Filipina, Thailand, dan Korea Selatan. Anda diminta untuk melakukan regresi panel untuk melihat hubungan antara tingkat investasi asing dan pertumbuhan ekonomi. *Identifier* negara terdapat di variabel `country`. Investasi asing direpresentasikan oleh variabel `fdi`, yaitu besar arus masuk penanaman modal asing sebagai persentase dari PDB. Pertumbuhan ekonomi direpresentasikan oleh dua variabel, yaitu `gdp` dan `log_gdp`, yaitu tingkat PDB riil berdasarkan *purchasing power parity tahun 2017*. Kedua variabel belum dikonversi dalam bentuk variabel tingkat pertumbuhan. File yang akan diberikan bernama `homework_5_panel.csv`\n",
    "\n",
    "\n",
    "1. Lakukan inspeksi data secara visual dengan melihat *scatterplot* korelasi antara PDB dan tingkat investasi.\n",
    "\n",
    "2. Konversi variabel `country` menjadi *dummy variable* dengan nilai berikut: `China = 0`, `South Korea = 1`, `Vietnam = 2`, `Thailand = 3`, `Philippines = 4`, `Malaysia = 5`, `Indonesia = 6`, `India = 7`})\n",
    "\n",
    "3. Untuk melihat efek dari investasi asing terhadap pertumbuhan ekonomi, maka perlu dilakukan *first differencing* terhadap variabel `log_gdp` untuk memperoleh variabel tingkat pertumbuhan. Selisih antara `log_gdp` merupakan aproksimasi yang sangat mendekati tingkat pertumbuhan PDB. Lakukan *first differencing* terhadap variabel `log_gdp` tersebut yang menghasilkan variabel baru `diff_log_gdp`. Pastikan bahwa *first differencing* hanya terjadi pada observasi dengan *identifier* yang sama. **First differencing dalam konteks ini hanya digunakan untuk menghitung pertumbuhan ekonomi, bukan untuk modifikasi regresi Pooled OLS seperti yang disebutkan di kelas**\n",
    "\n",
    "4. Selanjutnya, lakukan regresi *pooled OLS* `diff_log_gdp` terhadap `fdi` dengan modul statsmodels. Jangan gunakan modul linearmodels terlebih dahulu\n",
    "\n",
    "5. Lakukan regresi *least-squares dummy variable* `diff_log_gdp` terhadap `fdi` dengan modul statsmodels. Jangan gunakan modul linearmodels terlebih dahulu.\n",
    "\n",
    "6. Konversi dataframe dalam bentuk data panel yang dapat diolah modul linearmodels. Lalu, lakukan regresi *fixed effects* dengan modul linarmodels. Apakah hasilnya sama dengan regresi *least-square dummy variable*?\n",
    "\n",
    "7. Lakukan regresi *random effects* `diff_log_gdp` terhadap `fdi` dengan modul linearmodels.\n",
    "\n",
    "8. Bandingkan hasil dari regresi *random effects* dan *fixed effects* dengan fungsi `compare` dalam modul linearmodels.\n",
    "\n",
    "9. Lakukan uji Hausman untuk menentukan model mana yang sebaiknya digunakan. Apa kesimpulan anda?\n",
    "\n",
    "10. Lakukan pula *two-way fixed effect*. Dalam modul `linearmodels`, anda bisa melakukan ini dengan `TimeEffects` pada model regresi. Apa yang terjadi dengan parameter `fdi`? Jelaskan!\n",
    "\n",
    "\n",
    "\n",
    "**Bagian 2: Time Series Data**\n",
    "\n",
    "(Data yang disajikan berikut adalah data tingkat negara yang sudah diolah dari **FRED Economic Data** St. Louis Federal Reserve Bank). Untuk pertanyaan berikut, anda diminta untuk mencari hubungan antara tingkat PDB Indonesia dan jumlah uang M2 yang beredar. Data berfrekuensi kuartil dan berawal dari kuartil 1 tahun 1990 sampai kuartil 4 tahun 2013. Tingkat PDB Indonesia direpresentasikan oleh variabel `gdpindonesia` dan jumlah uang M2 yang beredar direpresentasikan oleh variabel `moneysupply`. File yang akan diberikan bernama `homework_5_timeseries.csv`.\n",
    "\n",
    "\n",
    "1. Lakukan inspeksi data secara visual dengan melihat *lineplot* PDB dan jumlah uang beredar terhadap waktu. Apakah kedua variabel tersebut stasioner? Lakukan uji Augmented Dickey-Fuller untuk menguji stasionaritas variabel *time-series*.\n",
    "\n",
    "2. Lakukan transformasi logaritma terhadap variabel PDB dan jumlah uang beredar, lalu lakukan inspeksi data secara visual dengan melihat *lineplot* serupa seperti pertanyaan sebelumnya. Lakukan juga uji Augmented Dickey-Fuller untuk menguji stasionaritas variabel.\n",
    "\n",
    "3. Lakukan *first differencing* terhadap hasil transformasi logaritma PDB dan jumlah uang beredar, lalu lakukan inspeksi data secara visual dengan melihat *lineplot* serupa seperti pertanyaan sebelumnya. Lakukan juga uji Augmented Dickey-Fuller untuk menguji stasionaritas variabel.\n",
    "\n",
    "4. Konversi dataframe agar dapat melakukan regresi *vector autoregression*.\n",
    "\n",
    "5. Lakukan regresi *vector autoregression* dengan *lag* model sesuai Akaike Information Criterion.\n",
    "\n",
    "6. Lakukan uji Granger Causality untuk menentukan arah kausalitas variabel. Apakah jumlah uang beredar *granger-cause* PDB, atau sebaliknya?"
   ]
  },
  {
   "cell_type": "markdown",
   "metadata": {},
   "source": [
    "### Jawaban"
   ]
  },
  {
   "cell_type": "markdown",
   "metadata": {},
   "source": [
    "**Modules & Setup**"
   ]
  },
  {
   "cell_type": "code",
   "execution_count": 2,
   "metadata": {},
   "outputs": [
    {
     "name": "stdout",
     "output_type": "stream",
     "text": [
      "Collecting linearmodels\n",
      "  Downloading linearmodels-4.25-cp38-cp38-macosx_10_9_x86_64.whl (1.5 MB)\n",
      "\u001b[K     |████████████████████████████████| 1.5 MB 2.3 MB/s eta 0:00:01\n",
      "\u001b[?25hRequirement already satisfied: pandas>=0.24 in /Applications/anaconda3/lib/python3.8/site-packages (from linearmodels) (1.2.4)\n",
      "Requirement already satisfied: numpy>=1.16 in /Applications/anaconda3/lib/python3.8/site-packages (from linearmodels) (1.20.1)\n",
      "Requirement already satisfied: statsmodels>=0.11 in /Applications/anaconda3/lib/python3.8/site-packages (from linearmodels) (0.12.2)\n",
      "Requirement already satisfied: scipy>=1.2 in /Applications/anaconda3/lib/python3.8/site-packages (from linearmodels) (1.6.2)\n",
      "Collecting formulaic\n",
      "  Downloading formulaic-0.2.4-py3-none-any.whl (55 kB)\n",
      "\u001b[K     |████████████████████████████████| 55 kB 10.3 MB/s eta 0:00:01\n",
      "\u001b[?25hRequirement already satisfied: Cython>=0.29.21 in /Applications/anaconda3/lib/python3.8/site-packages (from linearmodels) (0.29.23)\n",
      "Collecting property-cached>=1.6.3\n",
      "  Downloading property_cached-1.6.4-py2.py3-none-any.whl (7.8 kB)\n",
      "Requirement already satisfied: patsy in /Applications/anaconda3/lib/python3.8/site-packages (from linearmodels) (0.5.1)\n",
      "Requirement already satisfied: mypy-extensions>=0.4 in /Applications/anaconda3/lib/python3.8/site-packages (from linearmodels) (0.4.3)\n",
      "Collecting pyhdfe>=0.1\n",
      "  Downloading pyhdfe-0.1.0-py3-none-any.whl (18 kB)\n",
      "Requirement already satisfied: python-dateutil>=2.7.3 in /Applications/anaconda3/lib/python3.8/site-packages (from pandas>=0.24->linearmodels) (2.8.1)\n",
      "Requirement already satisfied: pytz>=2017.3 in /Applications/anaconda3/lib/python3.8/site-packages (from pandas>=0.24->linearmodels) (2021.1)\n",
      "Requirement already satisfied: six>=1.5 in /Applications/anaconda3/lib/python3.8/site-packages (from python-dateutil>=2.7.3->pandas>=0.24->linearmodels) (1.15.0)\n",
      "Requirement already satisfied: wrapt in /Applications/anaconda3/lib/python3.8/site-packages (from formulaic->linearmodels) (1.12.1)\n",
      "Collecting interface-meta>=1.2\n",
      "  Downloading interface_meta-1.2.4-py2.py3-none-any.whl (14 kB)\n",
      "Collecting astor\n",
      "  Downloading astor-0.8.1-py2.py3-none-any.whl (27 kB)\n",
      "Installing collected packages: interface-meta, astor, pyhdfe, property-cached, formulaic, linearmodels\n",
      "Successfully installed astor-0.8.1 formulaic-0.2.4 interface-meta-1.2.4 linearmodels-4.25 property-cached-1.6.4 pyhdfe-0.1.0\n"
     ]
    }
   ],
   "source": [
    "# !pip install linearmodels"
   ]
  },
  {
   "cell_type": "code",
   "execution_count": 3,
   "metadata": {},
   "outputs": [],
   "source": [
    "from statsmodels.compat import lzip\n",
    "import numpy.linalg as la\n",
    "import pandas as pd\n",
    "import numpy as np\n",
    "import statsmodels.api as sm\n",
    "import matplotlib.pyplot as plt\n",
    "import seaborn as sns\n",
    "from scipy import stats\n",
    "import statsmodels.formula.api as smf\n",
    "from statsmodels.stats.outliers_influence import variance_inflation_factor\n",
    "import statsmodels.stats.api as sms\n",
    "from linearmodels import PanelOLS\n",
    "from linearmodels import RandomEffects\n",
    "from linearmodels.panel import compare\n",
    "from statsmodels.tsa.base.datetools import dates_from_str\n",
    "from statsmodels.tsa.api import VAR\n",
    "from statsmodels.tsa.api import acf, pacf, graphics\n",
    "from statsmodels.tsa.stattools import adfuller, pacf, grangercausalitytests\n",
    "from statsmodels.graphics.tsaplots import plot_pacf\n",
    "\n",
    "\n",
    "df = pd.read_csv(\"\")\n",
    "df2 = pd.read_csv(\"\")"
   ]
  },
  {
   "cell_type": "code",
   "execution_count": 5,
   "metadata": {},
   "outputs": [
    {
     "data": {
      "text/html": [
       "<div>\n",
       "<style scoped>\n",
       "    .dataframe tbody tr th:only-of-type {\n",
       "        vertical-align: middle;\n",
       "    }\n",
       "\n",
       "    .dataframe tbody tr th {\n",
       "        vertical-align: top;\n",
       "    }\n",
       "\n",
       "    .dataframe thead th {\n",
       "        text-align: right;\n",
       "    }\n",
       "</style>\n",
       "<table border=\"1\" class=\"dataframe\">\n",
       "  <thead>\n",
       "    <tr style=\"text-align: right;\">\n",
       "      <th></th>\n",
       "      <th>country</th>\n",
       "      <th>year</th>\n",
       "      <th>fdi</th>\n",
       "      <th>gdp</th>\n",
       "      <th>log_gdp</th>\n",
       "    </tr>\n",
       "  </thead>\n",
       "  <tbody>\n",
       "    <tr>\n",
       "      <th>0</th>\n",
       "      <td>China</td>\n",
       "      <td>1990</td>\n",
       "      <td>0.966308</td>\n",
       "      <td>1.616386e+12</td>\n",
       "      <td>28.111214</td>\n",
       "    </tr>\n",
       "    <tr>\n",
       "      <th>1</th>\n",
       "      <td>China</td>\n",
       "      <td>1991</td>\n",
       "      <td>1.138838</td>\n",
       "      <td>1.766108e+12</td>\n",
       "      <td>28.199799</td>\n",
       "    </tr>\n",
       "    <tr>\n",
       "      <th>2</th>\n",
       "      <td>China</td>\n",
       "      <td>1992</td>\n",
       "      <td>2.613162</td>\n",
       "      <td>2.017329e+12</td>\n",
       "      <td>28.332796</td>\n",
       "    </tr>\n",
       "    <tr>\n",
       "      <th>3</th>\n",
       "      <td>China</td>\n",
       "      <td>1993</td>\n",
       "      <td>6.186882</td>\n",
       "      <td>2.297409e+12</td>\n",
       "      <td>28.462803</td>\n",
       "    </tr>\n",
       "    <tr>\n",
       "      <th>4</th>\n",
       "      <td>China</td>\n",
       "      <td>1994</td>\n",
       "      <td>5.987156</td>\n",
       "      <td>2.596918e+12</td>\n",
       "      <td>28.585346</td>\n",
       "    </tr>\n",
       "  </tbody>\n",
       "</table>\n",
       "</div>"
      ],
      "text/plain": [
       "  country  year       fdi           gdp    log_gdp\n",
       "0   China  1990  0.966308  1.616386e+12  28.111214\n",
       "1   China  1991  1.138838  1.766108e+12  28.199799\n",
       "2   China  1992  2.613162  2.017329e+12  28.332796\n",
       "3   China  1993  6.186882  2.297409e+12  28.462803\n",
       "4   China  1994  5.987156  2.596918e+12  28.585346"
      ]
     },
     "execution_count": 5,
     "metadata": {},
     "output_type": "execute_result"
    }
   ],
   "source": [
    "df.head()"
   ]
  },
  {
   "cell_type": "code",
   "execution_count": 6,
   "metadata": {},
   "outputs": [
    {
     "data": {
      "text/html": [
       "<div>\n",
       "<style scoped>\n",
       "    .dataframe tbody tr th:only-of-type {\n",
       "        vertical-align: middle;\n",
       "    }\n",
       "\n",
       "    .dataframe tbody tr th {\n",
       "        vertical-align: top;\n",
       "    }\n",
       "\n",
       "    .dataframe thead th {\n",
       "        text-align: right;\n",
       "    }\n",
       "</style>\n",
       "<table border=\"1\" class=\"dataframe\">\n",
       "  <thead>\n",
       "    <tr style=\"text-align: right;\">\n",
       "      <th></th>\n",
       "      <th>quarter</th>\n",
       "      <th>moneysupply</th>\n",
       "      <th>gdpindonesia</th>\n",
       "    </tr>\n",
       "  </thead>\n",
       "  <tbody>\n",
       "    <tr>\n",
       "      <th>0</th>\n",
       "      <td>1990q1</td>\n",
       "      <td>6.482046e+13</td>\n",
       "      <td>6.044571e+13</td>\n",
       "    </tr>\n",
       "    <tr>\n",
       "      <th>1</th>\n",
       "      <td>1990q2</td>\n",
       "      <td>7.076678e+13</td>\n",
       "      <td>6.242970e+13</td>\n",
       "    </tr>\n",
       "    <tr>\n",
       "      <th>2</th>\n",
       "      <td>1990q3</td>\n",
       "      <td>7.610668e+13</td>\n",
       "      <td>6.448990e+13</td>\n",
       "    </tr>\n",
       "    <tr>\n",
       "      <th>3</th>\n",
       "      <td>1990q4</td>\n",
       "      <td>8.221311e+13</td>\n",
       "      <td>6.613757e+13</td>\n",
       "    </tr>\n",
       "    <tr>\n",
       "      <th>4</th>\n",
       "      <td>1991q1</td>\n",
       "      <td>8.173774e+13</td>\n",
       "      <td>7.134019e+13</td>\n",
       "    </tr>\n",
       "  </tbody>\n",
       "</table>\n",
       "</div>"
      ],
      "text/plain": [
       "  quarter   moneysupply  gdpindonesia\n",
       "0  1990q1  6.482046e+13  6.044571e+13\n",
       "1  1990q2  7.076678e+13  6.242970e+13\n",
       "2  1990q3  7.610668e+13  6.448990e+13\n",
       "3  1990q4  8.221311e+13  6.613757e+13\n",
       "4  1991q1  8.173774e+13  7.134019e+13"
      ]
     },
     "execution_count": 6,
     "metadata": {},
     "output_type": "execute_result"
    }
   ],
   "source": [
    "df2.head()"
   ]
  },
  {
   "cell_type": "markdown",
   "metadata": {},
   "source": [
    "### Bagian 1: Panel Regression"
   ]
  },
  {
   "cell_type": "markdown",
   "metadata": {},
   "source": [
    "**1. *Initial scatterplot***"
   ]
  },
  {
   "cell_type": "code",
   "execution_count": 8,
   "metadata": {},
   "outputs": [
    {
     "data": {
      "text/plain": [
       "<seaborn.axisgrid.FacetGrid at 0x7f9aa3f5f190>"
      ]
     },
     "execution_count": 8,
     "metadata": {},
     "output_type": "execute_result"
    },
    {
     "data": {
      "image/png": "[encoded data removed]",
      "text/plain": [
       "<Figure size 360x360 with 1 Axes>"
      ]
     },
     "metadata": {
      "needs_background": "light"
     },
     "output_type": "display_data"
    }
   ],
   "source": [
    "sns.lmplot(x=\"fdi\", y=\"log_gdp\", data=df, scatter_kws={\"s\": 1.0}, markers=\"o\")"
   ]
  },
  {
   "cell_type": "markdown",
   "metadata": {},
   "source": [
    "**2. *Converting categorical variable into dummy variable***"
   ]
  },
  {
   "cell_type": "markdown",
   "metadata": {},
   "source": [
    "Konversi variabel `country` menjadi *dummy variable* dengan nilai berikut: `China = 0`, `South Korea = 1`, `Vietnam = 2`, `Thailand = 3`, `Philippines = 4`, `Malaysia = 5`, `Indonesia = 6`, `India = 7`"
   ]
  },
  {
   "cell_type": "code",
   "execution_count": 9,
   "metadata": {},
   "outputs": [
    {
     "name": "stdout",
     "output_type": "stream",
     "text": [
      "Index(['Vietnam', 'Malaysia', 'Philippines', 'Thailand', 'South Korea',\n",
      "       'Indonesia', 'China', 'India'],\n",
      "      dtype='object')\n"
     ]
    }
   ],
   "source": [
    "# country list\n",
    "country_list = df['country'].value_counts().sort_values().index\n",
    "print(country_list)"
   ]
  },
  {
   "cell_type": "code",
   "execution_count": 10,
   "metadata": {},
   "outputs": [
    {
     "data": {
      "text/html": [
       "<div>\n",
       "<style scoped>\n",
       "    .dataframe tbody tr th:only-of-type {\n",
       "        vertical-align: middle;\n",
       "    }\n",
       "\n",
       "    .dataframe tbody tr th {\n",
       "        vertical-align: top;\n",
       "    }\n",
       "\n",
       "    .dataframe thead th {\n",
       "        text-align: right;\n",
       "    }\n",
       "</style>\n",
       "<table border=\"1\" class=\"dataframe\">\n",
       "  <thead>\n",
       "    <tr style=\"text-align: right;\">\n",
       "      <th></th>\n",
       "      <th>country</th>\n",
       "      <th>year</th>\n",
       "      <th>fdi</th>\n",
       "      <th>gdp</th>\n",
       "      <th>log_gdp</th>\n",
       "      <th>country_code</th>\n",
       "    </tr>\n",
       "  </thead>\n",
       "  <tbody>\n",
       "    <tr>\n",
       "      <th>0</th>\n",
       "      <td>China</td>\n",
       "      <td>1990</td>\n",
       "      <td>0.966308</td>\n",
       "      <td>1.616386e+12</td>\n",
       "      <td>28.111214</td>\n",
       "      <td>0</td>\n",
       "    </tr>\n",
       "    <tr>\n",
       "      <th>1</th>\n",
       "      <td>China</td>\n",
       "      <td>1991</td>\n",
       "      <td>1.138838</td>\n",
       "      <td>1.766108e+12</td>\n",
       "      <td>28.199799</td>\n",
       "      <td>0</td>\n",
       "    </tr>\n",
       "    <tr>\n",
       "      <th>2</th>\n",
       "      <td>China</td>\n",
       "      <td>1992</td>\n",
       "      <td>2.613162</td>\n",
       "      <td>2.017329e+12</td>\n",
       "      <td>28.332796</td>\n",
       "      <td>0</td>\n",
       "    </tr>\n",
       "    <tr>\n",
       "      <th>3</th>\n",
       "      <td>China</td>\n",
       "      <td>1993</td>\n",
       "      <td>6.186882</td>\n",
       "      <td>2.297409e+12</td>\n",
       "      <td>28.462803</td>\n",
       "      <td>0</td>\n",
       "    </tr>\n",
       "    <tr>\n",
       "      <th>4</th>\n",
       "      <td>China</td>\n",
       "      <td>1994</td>\n",
       "      <td>5.987156</td>\n",
       "      <td>2.596918e+12</td>\n",
       "      <td>28.585346</td>\n",
       "      <td>0</td>\n",
       "    </tr>\n",
       "  </tbody>\n",
       "</table>\n",
       "</div>"
      ],
      "text/plain": [
       "  country  year       fdi           gdp    log_gdp  country_code\n",
       "0   China  1990  0.966308  1.616386e+12  28.111214             0\n",
       "1   China  1991  1.138838  1.766108e+12  28.199799             0\n",
       "2   China  1992  2.613162  2.017329e+12  28.332796             0\n",
       "3   China  1993  6.186882  2.297409e+12  28.462803             0\n",
       "4   China  1994  5.987156  2.596918e+12  28.585346             0"
      ]
     },
     "execution_count": 10,
     "metadata": {},
     "output_type": "execute_result"
    }
   ],
   "source": [
    "# country mapping\n",
    "country_map = {'China': 0, 'South Korea': 1,'Vietnam': 2,'Thailand': 3,\n",
    "               'Philippines': 4,'Malaysia': 5,'Indonesia': 6,'India': 7}\n",
    "df['country_code'] = df['country'].map(country_map)\n",
    "df.head()"
   ]
  },
  {
   "cell_type": "markdown",
   "metadata": {},
   "source": [
    "***3. First differencing log-GDP***"
   ]
  },
  {
   "cell_type": "markdown",
   "metadata": {},
   "source": [
    "Untuk melihat efek dari investasi asing terhadap pertumbuhan ekonomi, maka perlu dilakukan *first differencing* terhadap variabel `log_gdp` untuk memperoleh variabel tingkat pertumbuhan. Selisih antara `log_gdp` merupakan aproksimasi yang sangat mendekati tingkat pertumbuhan PDB. Lakukan *first differencing* terhadap variabel `log_gdp` tersebut yang menghasilkan variabel baru `diff_log_gdp`. Pastikan bahwa *first differencing* hanya terjadi pada observasi dengan *identifier* yang sama. **First differencing dalam konteks ini hanya digunakan untuk menghitung pertumbuhan ekonomi, bukan untuk modifikasi regresi Pooled OLS seperti yang disebutkan di kelas**"
   ]
  },
  {
   "cell_type": "code",
   "execution_count": 11,
   "metadata": {},
   "outputs": [
    {
     "data": {
      "text/html": [
       "<div>\n",
       "<style scoped>\n",
       "    .dataframe tbody tr th:only-of-type {\n",
       "        vertical-align: middle;\n",
       "    }\n",
       "\n",
       "    .dataframe tbody tr th {\n",
       "        vertical-align: top;\n",
       "    }\n",
       "\n",
       "    .dataframe thead th {\n",
       "        text-align: right;\n",
       "    }\n",
       "</style>\n",
       "<table border=\"1\" class=\"dataframe\">\n",
       "  <thead>\n",
       "    <tr style=\"text-align: right;\">\n",
       "      <th></th>\n",
       "      <th>country</th>\n",
       "      <th>year</th>\n",
       "      <th>fdi</th>\n",
       "      <th>gdp</th>\n",
       "      <th>log_gdp</th>\n",
       "      <th>country_code</th>\n",
       "      <th>diff_log_gdp</th>\n",
       "    </tr>\n",
       "  </thead>\n",
       "  <tbody>\n",
       "    <tr>\n",
       "      <th>0</th>\n",
       "      <td>China</td>\n",
       "      <td>1990</td>\n",
       "      <td>0.966308</td>\n",
       "      <td>1.616386e+12</td>\n",
       "      <td>28.111214</td>\n",
       "      <td>0</td>\n",
       "      <td>NaN</td>\n",
       "    </tr>\n",
       "    <tr>\n",
       "      <th>1</th>\n",
       "      <td>China</td>\n",
       "      <td>1991</td>\n",
       "      <td>1.138838</td>\n",
       "      <td>1.766108e+12</td>\n",
       "      <td>28.199799</td>\n",
       "      <td>0</td>\n",
       "      <td>0.088585</td>\n",
       "    </tr>\n",
       "    <tr>\n",
       "      <th>2</th>\n",
       "      <td>China</td>\n",
       "      <td>1992</td>\n",
       "      <td>2.613162</td>\n",
       "      <td>2.017329e+12</td>\n",
       "      <td>28.332796</td>\n",
       "      <td>0</td>\n",
       "      <td>0.132997</td>\n",
       "    </tr>\n",
       "    <tr>\n",
       "      <th>3</th>\n",
       "      <td>China</td>\n",
       "      <td>1993</td>\n",
       "      <td>6.186882</td>\n",
       "      <td>2.297409e+12</td>\n",
       "      <td>28.462803</td>\n",
       "      <td>0</td>\n",
       "      <td>0.130007</td>\n",
       "    </tr>\n",
       "    <tr>\n",
       "      <th>4</th>\n",
       "      <td>China</td>\n",
       "      <td>1994</td>\n",
       "      <td>5.987156</td>\n",
       "      <td>2.596918e+12</td>\n",
       "      <td>28.585346</td>\n",
       "      <td>0</td>\n",
       "      <td>0.122543</td>\n",
       "    </tr>\n",
       "  </tbody>\n",
       "</table>\n",
       "</div>"
      ],
      "text/plain": [
       "  country  year       fdi           gdp    log_gdp  country_code  diff_log_gdp\n",
       "0   China  1990  0.966308  1.616386e+12  28.111214             0           NaN\n",
       "1   China  1991  1.138838  1.766108e+12  28.199799             0      0.088585\n",
       "2   China  1992  2.613162  2.017329e+12  28.332796             0      0.132997\n",
       "3   China  1993  6.186882  2.297409e+12  28.462803             0      0.130007\n",
       "4   China  1994  5.987156  2.596918e+12  28.585346             0      0.122543"
      ]
     },
     "execution_count": 11,
     "metadata": {},
     "output_type": "execute_result"
    }
   ],
   "source": [
    "df = df.sort_values(by=['country_code','year'])\n",
    "df['diff_log_gdp'] = np.where(df.country_code == df.country_code.shift(1), \n",
    "                              df['log_gdp'].diff(),\n",
    "                              float('NaN'))\n",
    "df.head()"
   ]
  },
  {
   "cell_type": "code",
   "execution_count": 14,
   "metadata": {},
   "outputs": [
    {
     "data": {
      "text/plain": [
       "<seaborn.axisgrid.FacetGrid at 0x7f9a919b8250>"
      ]
     },
     "execution_count": 14,
     "metadata": {},
     "output_type": "execute_result"
    },
    {
     "data": {
      "image/png": "[encoded data removed]",
      "text/plain": [
       "<Figure size 360x360 with 1 Axes>"
      ]
     },
     "metadata": {
      "needs_background": "light"
     },
     "output_type": "display_data"
    }
   ],
   "source": [
    "sns.lmplot(x=\"fdi\", y=\"diff_log_gdp\", data=df, scatter_kws={\"s\": 1.0}, markers=\"o\")"
   ]
  },
  {
   "cell_type": "markdown",
   "metadata": {},
   "source": [
    "***4. Pooled OLS***"
   ]
  },
  {
   "cell_type": "markdown",
   "metadata": {},
   "source": [
    "Selanjutnya, lakukan regresi *pooled OLS* `diff_log_gdp` terhadap `fdi` dengan modul statsmodels. Jangan gunakan modul linearmodels terlebih dahulu"
   ]
  },
  {
   "cell_type": "code",
   "execution_count": 12,
   "metadata": {},
   "outputs": [
    {
     "name": "stdout",
     "output_type": "stream",
     "text": [
      "                            OLS Regression Results                            \n",
      "==============================================================================\n",
      "Dep. Variable:           diff_log_gdp   R-squared:                       0.093\n",
      "Model:                            OLS   Adj. R-squared:                  0.089\n",
      "Method:                 Least Squares   F-statistic:                     23.48\n",
      "Date:                Thu, 27 Jan 2022   Prob (F-statistic):           2.33e-06\n",
      "Time:                        00:14:48   Log-Likelihood:                 481.85\n",
      "No. Observations:                 232   AIC:                            -959.7\n",
      "Df Residuals:                     230   BIC:                            -952.8\n",
      "Df Model:                           1                                         \n",
      "Covariance Type:            nonrobust                                         \n",
      "==============================================================================\n",
      "                 coef    std err          t      P>|t|      [0.025      0.975]\n",
      "------------------------------------------------------------------------------\n",
      "Intercept      0.0446      0.003     14.058      0.000       0.038       0.051\n",
      "fdi            0.0045      0.001      4.845      0.000       0.003       0.006\n",
      "==============================================================================\n",
      "Omnibus:                      126.415   Durbin-Watson:                   1.190\n",
      "Prob(Omnibus):                  0.000   Jarque-Bera (JB):             1001.755\n",
      "Skew:                          -1.999   Prob(JB):                    2.96e-218\n",
      "Kurtosis:                      12.362   Cond. No.                         5.73\n",
      "==============================================================================\n",
      "\n",
      "Notes:\n",
      "[1] Standard Errors assume that the covariance matrix of the errors is correctly specified.\n"
     ]
    }
   ],
   "source": [
    "mod_pooled = smf.ols(formula='diff_log_gdp ~ fdi', data=df, missing='drop').fit()\n",
    "print(mod_pooled.summary())"
   ]
  },
  {
   "cell_type": "markdown",
   "metadata": {},
   "source": [
    "Setiap penambahan 1% foreign direct investment (dari GDP), maka akan menaikkan pertumbuhan ekonomi sebesar 0.45%"
   ]
  },
  {
   "cell_type": "markdown",
   "metadata": {},
   "source": [
    "***5. LSDV regression***"
   ]
  },
  {
   "cell_type": "code",
   "execution_count": 15,
   "metadata": {},
   "outputs": [
    {
     "name": "stdout",
     "output_type": "stream",
     "text": [
      "                            OLS Regression Results                            \n",
      "==============================================================================\n",
      "Dep. Variable:           diff_log_gdp   R-squared:                       0.276\n",
      "Model:                            OLS   Adj. R-squared:                  0.250\n",
      "Method:                 Least Squares   F-statistic:                     10.64\n",
      "Date:                Thu, 27 Jan 2022   Prob (F-statistic):           1.21e-12\n",
      "Time:                        00:24:53   Log-Likelihood:                 508.08\n",
      "No. Observations:                 232   AIC:                            -998.2\n",
      "Df Residuals:                     223   BIC:                            -967.1\n",
      "Df Model:                           8                                         \n",
      "Covariance Type:            nonrobust                                         \n",
      "========================================================================================\n",
      "                           coef    std err          t      P>|t|      [0.025      0.975]\n",
      "----------------------------------------------------------------------------------------\n",
      "Intercept                0.0733      0.007     10.687      0.000       0.060       0.087\n",
      "C(country_code)[T.1]    -0.0294      0.008     -3.670      0.000      -0.045      -0.014\n",
      "C(country_code)[T.2]    -0.0379      0.008     -4.715      0.000      -0.054      -0.022\n",
      "C(country_code)[T.3]    -0.0467      0.007     -6.379      0.000      -0.061      -0.032\n",
      "C(country_code)[T.4]    -0.0370      0.008     -4.856      0.000      -0.052      -0.022\n",
      "C(country_code)[T.5]    -0.0391      0.007     -5.365      0.000      -0.054      -0.025\n",
      "C(country_code)[T.6]    -0.0328      0.008     -4.194      0.000      -0.048      -0.017\n",
      "C(country_code)[T.7]    -0.0191      0.008     -2.445      0.015      -0.034      -0.004\n",
      "fdi                      0.0051      0.001      3.837      0.000       0.002       0.008\n",
      "==============================================================================\n",
      "Omnibus:                      154.695   Durbin-Watson:                   1.526\n",
      "Prob(Omnibus):                  0.000   Jarque-Bera (JB):             1727.427\n",
      "Skew:                          -2.462   Prob(JB):                         0.00\n",
      "Kurtosis:                      15.428   Cond. No.                         31.3\n",
      "==============================================================================\n",
      "\n",
      "Notes:\n",
      "[1] Standard Errors assume that the covariance matrix of the errors is correctly specified.\n"
     ]
    }
   ],
   "source": [
    "mod_lsdv = smf.ols(formula='diff_log_gdp ~ fdi + C(country_code)', data=df, missing='drop').fit()\n",
    "print(mod_lsdv.summary())"
   ]
  },
  {
   "cell_type": "markdown",
   "metadata": {},
   "source": [
    "Setiap penambahan 1% foreign direct investment (dari GDP), maka akan menaikkan pertumbuhan ekonomi sebesar 0.51%"
   ]
  },
  {
   "cell_type": "markdown",
   "metadata": {},
   "source": [
    "***6. Fixed effects regression with linearmodels module***"
   ]
  },
  {
   "cell_type": "code",
   "execution_count": 18,
   "metadata": {},
   "outputs": [
    {
     "name": "stdout",
     "output_type": "stream",
     "text": [
      "                          PanelOLS Estimation Summary                           \n",
      "================================================================================\n",
      "Dep. Variable:           diff_log_gdp   R-squared:                        0.0619\n",
      "Estimator:                   PanelOLS   R-squared (Between):              0.4047\n",
      "No. Observations:                 232   R-squared (Within):               0.0619\n",
      "Date:                Thu, Jan 27 2022   R-squared (Overall):              0.3411\n",
      "Time:                        00:30:22   Log-likelihood                    508.08\n",
      "Cov. Estimator:            Unadjusted                                           \n",
      "                                        F-statistic:                      14.721\n",
      "Entities:                           8   P-value                           0.0002\n",
      "Avg Obs:                       29.000   Distribution:                   F(1,223)\n",
      "Min Obs:                       29.000                                           \n",
      "Max Obs:                       29.000   F-statistic (robust):             14.721\n",
      "                                        P-value                           0.0002\n",
      "Time periods:                      29   Distribution:                   F(1,223)\n",
      "Avg Obs:                       8.0000                                           \n",
      "Min Obs:                       8.0000                                           \n",
      "Max Obs:                       8.0000                                           \n",
      "                                                                                \n",
      "                             Parameter Estimates                              \n",
      "==============================================================================\n",
      "            Parameter  Std. Err.     T-stat    P-value    Lower CI    Upper CI\n",
      "------------------------------------------------------------------------------\n",
      "fdi            0.0051     0.0013     3.8368     0.0002      0.0025      0.0077\n",
      "==============================================================================\n",
      "\n",
      "F-test for Poolability: 8.0838\n",
      "P-value: 0.0000\n",
      "Distribution: F(7,223)\n",
      "\n",
      "Included effects: Entity\n"
     ]
    }
   ],
   "source": [
    "# within group\n",
    "pooled_df = df.set_index(['country_code','year'])\n",
    "mod_fixed = PanelOLS.from_formula('diff_log_gdp ~ fdi + EntityEffects', data=pooled_df)\n",
    "print(mod_fixed.fit())"
   ]
  },
  {
   "cell_type": "markdown",
   "metadata": {},
   "source": [
    "***7. Random effects regression with linearmodels module***"
   ]
  },
  {
   "cell_type": "markdown",
   "metadata": {},
   "source": [
    "Lakukan regresi random effects diff_log_gdp terhadap fdi dengan modul linearmodels."
   ]
  },
  {
   "cell_type": "code",
   "execution_count": 20,
   "metadata": {},
   "outputs": [
    {
     "name": "stdout",
     "output_type": "stream",
     "text": [
      "                        RandomEffects Estimation Summary                        \n",
      "================================================================================\n",
      "Dep. Variable:           diff_log_gdp   R-squared:                        0.1071\n",
      "Estimator:              RandomEffects   R-squared (Between):              0.4976\n",
      "No. Observations:                 232   R-squared (Within):               0.0563\n",
      "Date:                Thu, Jan 27 2022   R-squared (Overall):              0.4157\n",
      "Time:                        00:35:22   Log-likelihood                    499.61\n",
      "Cov. Estimator:            Unadjusted                                           \n",
      "                                        F-statistic:                      27.717\n",
      "Entities:                           8   P-value                           0.0000\n",
      "Avg Obs:                       29.000   Distribution:                   F(1,231)\n",
      "Min Obs:                       29.000                                           \n",
      "Max Obs:                       29.000   F-statistic (robust):             27.717\n",
      "                                        P-value                           0.0000\n",
      "Time periods:                      29   Distribution:                   F(1,231)\n",
      "Avg Obs:                       8.0000                                           \n",
      "Min Obs:                       8.0000                                           \n",
      "Max Obs:                       8.0000                                           \n",
      "                                                                                \n",
      "                             Parameter Estimates                              \n",
      "==============================================================================\n",
      "            Parameter  Std. Err.     T-stat    P-value    Lower CI    Upper CI\n",
      "------------------------------------------------------------------------------\n",
      "fdi            0.0066     0.0013     5.2646     0.0000      0.0041      0.0091\n",
      "==============================================================================\n"
     ]
    }
   ],
   "source": [
    "mod_random = RandomEffects.from_formula('diff_log_gdp ~ fdi', data=pooled_df)\n",
    "print(mod_random.fit())"
   ]
  },
  {
   "cell_type": "markdown",
   "metadata": {},
   "source": [
    "***8. Model comparison***"
   ]
  },
  {
   "cell_type": "markdown",
   "metadata": {},
   "source": [
    "Bandingkan hasil dari regresi *random effects* dan *fixed effects* dengan fungsi `compare` dalam modul linearmodels."
   ]
  },
  {
   "cell_type": "code",
   "execution_count": 31,
   "metadata": {},
   "outputs": [
    {
     "name": "stdout",
     "output_type": "stream",
     "text": [
      "                     Model Comparison                     \n",
      "==========================================================\n",
      "                                      FE                RE\n",
      "----------------------------------------------------------\n",
      "Dep. Variable               diff_log_gdp      diff_log_gdp\n",
      "Estimator                       PanelOLS     RandomEffects\n",
      "No. Observations                     232               232\n",
      "Cov. Est.                     Unadjusted        Unadjusted\n",
      "R-squared                         0.0619            0.1071\n",
      "R-Squared (Within)                0.0619            0.0563\n",
      "R-Squared (Between)               0.4047            0.4976\n",
      "R-Squared (Overall)               0.3411            0.4157\n",
      "F-statistic                       14.721            27.717\n",
      "P-value (F-stat)                  0.0002            0.0000\n",
      "=====================     ==============   ===============\n",
      "fdi                               0.0051            0.0066\n",
      "                                (3.8368)          (5.2646)\n",
      "======================= ================ =================\n",
      "Effects                           Entity                  \n",
      "----------------------------------------------------------\n",
      "\n",
      "T-stats reported in parentheses\n"
     ]
    }
   ],
   "source": [
    "print(compare({'FE': mod_fixed.fit(), 'RE': mod_random.fit()}))"
   ]
  },
  {
   "cell_type": "markdown",
   "metadata": {},
   "source": [
    "***9. Hausman test***"
   ]
  },
  {
   "cell_type": "markdown",
   "metadata": {},
   "source": [
    "Lakukan uji Hausman untuk menentukan model mana yang sebaiknya digunakan. Apa kesimpulan anda?"
   ]
  },
  {
   "cell_type": "markdown",
   "metadata": {},
   "source": [
    "*\"...By running the Hausman-Test, the null hypothesis is that the covariance between IV(s) and alpha is zero. If this is the case, then RE is preferred over FE. If the null hypothesis is not true, we must go with the FE-model.*"
   ]
  },
  {
   "cell_type": "code",
   "execution_count": 33,
   "metadata": {},
   "outputs": [],
   "source": [
    "def hausman(fe, re):\n",
    "    b = fe.params\n",
    "    B = re.params\n",
    "    v_b = fe.cov\n",
    "    v_B = re.cov\n",
    "    df = b[np.abs(b) < 1e8].size\n",
    "    chi2 = np.dot((b - B).T, la.inv(v_b - v_B).dot(b - B)) \n",
    " \n",
    "    pval = stats.chi2.sf(chi2, df)\n",
    "    \n",
    "    return chi2, df, pval"
   ]
  },
  {
   "cell_type": "code",
   "execution_count": 34,
   "metadata": {},
   "outputs": [
    {
     "name": "stdout",
     "output_type": "stream",
     "text": [
      "chi-Squared: 13.164598386935127\n",
      "degrees of freedom: 1\n",
      "p-Value: 0.0002852879253946507\n"
     ]
    }
   ],
   "source": [
    "hausman_results = hausman(mod_fixed.fit(), mod_random.fit()) \n",
    "print('chi-Squared: ' + str(hausman_results[0]))\n",
    "print('degrees of freedom: ' + str(hausman_results[1]))\n",
    "print('p-Value: ' + str(hausman_results[2]))"
   ]
  },
  {
   "cell_type": "markdown",
   "metadata": {},
   "source": [
    "p-Value 0.00028 < 0.05 ; maka kita reject null hypothesis dan berkesimpulan Fixed Effect model lebih cocok."
   ]
  },
  {
   "cell_type": "markdown",
   "metadata": {},
   "source": [
    "***10. Two-Way Fixed Effect***"
   ]
  },
  {
   "cell_type": "markdown",
   "metadata": {},
   "source": [
    "Lakukan pula *two-way fixed effect*. Dalam modul `linearmodels`, anda bisa melakukan ini dengan `TimeEffects` pada model regresi. Apa yang terjadi dengan parameter `fdi`? Jelaskan!"
   ]
  },
  {
   "cell_type": "code",
   "execution_count": 36,
   "metadata": {},
   "outputs": [
    {
     "name": "stdout",
     "output_type": "stream",
     "text": [
      "                          PanelOLS Estimation Summary                           \n",
      "================================================================================\n",
      "Dep. Variable:           diff_log_gdp   R-squared:                        0.0873\n",
      "Estimator:                   PanelOLS   R-squared (Between):              0.3888\n",
      "No. Observations:                 232   R-squared (Within):               0.0618\n",
      "Date:                Thu, Jan 27 2022   R-squared (Overall):              0.3281\n",
      "Time:                        01:28:36   Log-likelihood                    577.99\n",
      "Cov. Estimator:            Unadjusted                                           \n",
      "                                        F-statistic:                      18.662\n",
      "Entities:                           8   P-value                           0.0000\n",
      "Avg Obs:                       29.000   Distribution:                   F(1,195)\n",
      "Min Obs:                       29.000                                           \n",
      "Max Obs:                       29.000   F-statistic (robust):             18.662\n",
      "                                        P-value                           0.0000\n",
      "Time periods:                      29   Distribution:                   F(1,195)\n",
      "Avg Obs:                       8.0000                                           \n",
      "Min Obs:                       8.0000                                           \n",
      "Max Obs:                       8.0000                                           \n",
      "                                                                                \n",
      "                             Parameter Estimates                              \n",
      "==============================================================================\n",
      "            Parameter  Std. Err.     T-stat    P-value    Lower CI    Upper CI\n",
      "------------------------------------------------------------------------------\n",
      "fdi            0.0048     0.0011     4.3200     0.0000      0.0026      0.0070\n",
      "==============================================================================\n",
      "\n",
      "F-test for Poolability: 7.1906\n",
      "P-value: 0.0000\n",
      "Distribution: F(35,195)\n",
      "\n",
      "Included effects: Entity, Time\n"
     ]
    }
   ],
   "source": [
    "mod_fixed_tse = PanelOLS.from_formula('diff_log_gdp ~ fdi + EntityEffects + TimeEffects', data=pooled_df)\n",
    "print(mod_fixed_tse.fit())"
   ]
  },
  {
   "cell_type": "markdown",
   "metadata": {},
   "source": [
    "parameter `fdi` turun dari `0.0051` ke `0.0048` (tidak terlalu banyak beda) tapi masih dalam range confidence interval, dikarenakan efek dari (most of) titik waktu yang tidak signifikan.\n",
    "\n",
    "contoh tahun-tahun yang signifikan hanya ini:\n",
    "- 1994\n",
    "- 1995\n",
    "- 1998\n",
    "- 2009"
   ]
  },
  {
   "cell_type": "code",
   "execution_count": 37,
   "metadata": {},
   "outputs": [
    {
     "name": "stdout",
     "output_type": "stream",
     "text": [
      "                            OLS Regression Results                            \n",
      "==============================================================================\n",
      "Dep. Variable:           diff_log_gdp   R-squared:                       0.604\n",
      "Model:                            OLS   Adj. R-squared:                  0.531\n",
      "Method:                 Least Squares   F-statistic:                     8.257\n",
      "Date:                Thu, 27 Jan 2022   Prob (F-statistic):           1.05e-23\n",
      "Time:                        01:37:57   Log-Likelihood:                 577.99\n",
      "No. Observations:                 232   AIC:                            -1082.\n",
      "Df Residuals:                     195   BIC:                            -954.4\n",
      "Df Model:                          36                                         \n",
      "Covariance Type:            nonrobust                                         \n",
      "========================================================================================\n",
      "                           coef    std err          t      P>|t|      [0.025      0.975]\n",
      "----------------------------------------------------------------------------------------\n",
      "Intercept                0.0717      0.005     13.251      0.000       0.061       0.082\n",
      "C(country_code)[T.1]    -0.0300      0.006     -4.677      0.000      -0.043      -0.017\n",
      "C(country_code)[T.2]    -0.0373      0.006     -5.783      0.000      -0.050      -0.025\n",
      "C(country_code)[T.3]    -0.0469      0.006     -8.084      0.000      -0.058      -0.035\n",
      "C(country_code)[T.4]    -0.0374      0.006     -6.168      0.000      -0.049      -0.025\n",
      "C(country_code)[T.5]    -0.0390      0.006     -6.751      0.000      -0.050      -0.028\n",
      "C(country_code)[T.6]    -0.0333      0.006     -5.334      0.000      -0.046      -0.021\n",
      "C(country_code)[T.7]    -0.0196      0.006     -3.145      0.002      -0.032      -0.007\n",
      "C(year)[T.1991]          0.0095      0.008      1.251      0.212      -0.005       0.024\n",
      "C(year)[T.1992]          0.0164      0.008      2.154      0.032       0.001       0.031\n",
      "C(year)[T.1993]          0.0153      0.008      2.004      0.046       0.000       0.030\n",
      "C(year)[T.1994]          0.0214      0.008      2.790      0.006       0.006       0.037\n",
      "C(year)[T.1995]          0.0260      0.008      3.412      0.001       0.011       0.041\n",
      "C(year)[T.1996]          0.0198      0.008      2.588      0.010       0.005       0.035\n",
      "C(year)[T.1997]         -0.0061      0.008     -0.803      0.423      -0.021       0.009\n",
      "C(year)[T.1998]         -0.0768      0.008    -10.079      0.000      -0.092      -0.062\n",
      "C(year)[T.1999]          0.0026      0.008      0.339      0.735      -0.012       0.018\n",
      "C(year)[T.2000]          0.0104      0.008      1.371      0.172      -0.005       0.025\n",
      "C(year)[T.2001]         -0.0070      0.008     -0.920      0.359      -0.022       0.008\n",
      "C(year)[T.2002]          0.0050      0.008      0.652      0.515      -0.010       0.020\n",
      "C(year)[T.2003]          0.0108      0.008      1.421      0.157      -0.004       0.026\n",
      "C(year)[T.2004]          0.0150      0.008      1.969      0.050   -2.21e-05       0.030\n",
      "C(year)[T.2005]          0.0075      0.008      0.994      0.322      -0.007       0.023\n",
      "C(year)[T.2006]          0.0102      0.008      1.341      0.181      -0.005       0.025\n",
      "C(year)[T.2007]          0.0136      0.008      1.779      0.077      -0.001       0.029\n",
      "C(year)[T.2008]         -0.0109      0.008     -1.424      0.156      -0.026       0.004\n",
      "C(year)[T.2009]         -0.0190      0.008     -2.502      0.013      -0.034      -0.004\n",
      "C(year)[T.2010]          0.0172      0.008      2.261      0.025       0.002       0.032\n",
      "C(year)[T.2011]         -0.0042      0.008     -0.559      0.577      -0.019       0.011\n",
      "C(year)[T.2012]          0.0033      0.008      0.434      0.665      -0.012       0.018\n",
      "C(year)[T.2013]         -0.0029      0.008     -0.377      0.707      -0.018       0.012\n",
      "C(year)[T.2014]         -0.0013      0.008     -0.165      0.869      -0.016       0.014\n",
      "C(year)[T.2015]         -0.0001      0.008     -0.015      0.988      -0.015       0.015\n",
      "C(year)[T.2016]          0.0012      0.008      0.156      0.876      -0.014       0.016\n",
      "C(year)[T.2017]          0.0021      0.008      0.274      0.785      -0.013       0.017\n",
      "C(year)[T.2018]       -8.56e-05      0.008     -0.011      0.991      -0.015       0.015\n",
      "C(year)[T.2019]         -0.0071      0.008     -0.940      0.348      -0.022       0.008\n",
      "fdi                      0.0048      0.001      4.320      0.000       0.003       0.007\n",
      "==============================================================================\n",
      "Omnibus:                       32.843   Durbin-Watson:                   1.457\n",
      "Prob(Omnibus):                  0.000   Jarque-Bera (JB):              183.657\n",
      "Skew:                          -0.284   Prob(JB):                     1.32e-40\n",
      "Kurtosis:                       7.322   Cond. No.                     1.97e+16\n",
      "==============================================================================\n",
      "\n",
      "Notes:\n",
      "[1] Standard Errors assume that the covariance matrix of the errors is correctly specified.\n",
      "[2] The smallest eigenvalue is 7.47e-30. This might indicate that there are\n",
      "strong multicollinearity problems or that the design matrix is singular.\n"
     ]
    }
   ],
   "source": [
    "mod_lsdv_tse = smf.ols(formula='diff_log_gdp ~ fdi + C(country_code) + C(year)', data=df, missing='drop').fit()\n",
    "print(mod_lsdv_tse.summary())"
   ]
  },
  {
   "cell_type": "markdown",
   "metadata": {},
   "source": [
    "### Bagian 2: Time Series Data"
   ]
  },
  {
   "cell_type": "markdown",
   "metadata": {},
   "source": [
    "**1. *Visualization and stationarity test of initial variables***"
   ]
  },
  {
   "cell_type": "markdown",
   "metadata": {},
   "source": [
    "Lakukan inspeksi data secara visual dengan melihat *lineplot* PDB dan jumlah uang beredar terhadap waktu. Apakah kedua variabel tersebut stasioner? Lakukan uji Augmented Dickey-Fuller untuk menguji stasionaritas variabel *time-series*."
   ]
  },
  {
   "cell_type": "code",
   "execution_count": 43,
   "metadata": {},
   "outputs": [
    {
     "data": {
      "text/html": [
       "<div>\n",
       "<style scoped>\n",
       "    .dataframe tbody tr th:only-of-type {\n",
       "        vertical-align: middle;\n",
       "    }\n",
       "\n",
       "    .dataframe tbody tr th {\n",
       "        vertical-align: top;\n",
       "    }\n",
       "\n",
       "    .dataframe thead th {\n",
       "        text-align: right;\n",
       "    }\n",
       "</style>\n",
       "<table border=\"1\" class=\"dataframe\">\n",
       "  <thead>\n",
       "    <tr style=\"text-align: right;\">\n",
       "      <th></th>\n",
       "      <th>moneysupply</th>\n",
       "      <th>gdpindonesia</th>\n",
       "    </tr>\n",
       "    <tr>\n",
       "      <th>quarter</th>\n",
       "      <th></th>\n",
       "      <th></th>\n",
       "    </tr>\n",
       "  </thead>\n",
       "  <tbody>\n",
       "    <tr>\n",
       "      <th>1990q1</th>\n",
       "      <td>6.482046e+13</td>\n",
       "      <td>6.044571e+13</td>\n",
       "    </tr>\n",
       "    <tr>\n",
       "      <th>1990q2</th>\n",
       "      <td>7.076678e+13</td>\n",
       "      <td>6.242970e+13</td>\n",
       "    </tr>\n",
       "    <tr>\n",
       "      <th>1990q3</th>\n",
       "      <td>7.610668e+13</td>\n",
       "      <td>6.448990e+13</td>\n",
       "    </tr>\n",
       "    <tr>\n",
       "      <th>1990q4</th>\n",
       "      <td>8.221311e+13</td>\n",
       "      <td>6.613757e+13</td>\n",
       "    </tr>\n",
       "    <tr>\n",
       "      <th>1991q1</th>\n",
       "      <td>8.173774e+13</td>\n",
       "      <td>7.134019e+13</td>\n",
       "    </tr>\n",
       "  </tbody>\n",
       "</table>\n",
       "</div>"
      ],
      "text/plain": [
       "          moneysupply  gdpindonesia\n",
       "quarter                            \n",
       "1990q1   6.482046e+13  6.044571e+13\n",
       "1990q2   7.076678e+13  6.242970e+13\n",
       "1990q3   7.610668e+13  6.448990e+13\n",
       "1990q4   8.221311e+13  6.613757e+13\n",
       "1991q1   8.173774e+13  7.134019e+13"
      ]
     },
     "execution_count": 43,
     "metadata": {},
     "output_type": "execute_result"
    }
   ],
   "source": [
    "df3 = df2.set_index('quarter')\n",
    "df3.head()"
   ]
  },
  {
   "cell_type": "code",
   "execution_count": 46,
   "metadata": {},
   "outputs": [
    {
     "data": {
      "image/png": "[encoded data removed]",
      "text/plain": [
       "<Figure size 432x288 with 1 Axes>"
      ]
     },
     "metadata": {
      "needs_background": "light"
     },
     "output_type": "display_data"
    }
   ],
   "source": [
    "plt.plot('moneysupply', data=df3, marker='o', markerfacecolor='blue', markersize=4, color='skyblue', linewidth=4)\n",
    "plt.plot('gdpindonesia', data=df3, marker='', color='olive', linewidth=2)\n",
    "plt.legend()\n",
    "plt.show()"
   ]
  },
  {
   "cell_type": "code",
   "execution_count": 47,
   "metadata": {},
   "outputs": [],
   "source": [
    "def ad_test(dataset):\n",
    "    dftest = adfuller(dataset, autolag='AIC')\n",
    "    print('1. ADF : ', dftest[0])\n",
    "    print('2. P-Value : ', dftest[1])\n",
    "    print('3. Num of Lags : ', dftest[2])\n",
    "    print('4. Num of Observation used for ADF Regression & Critical Values Calc. : ', dftest[3])\n",
    "    print('5. Critical Values : ')\n",
    "    for key, val in dftest[4].items():\n",
    "        print('\\t', key, ': ', val)"
   ]
  },
  {
   "cell_type": "code",
   "execution_count": 51,
   "metadata": {},
   "outputs": [
    {
     "name": "stdout",
     "output_type": "stream",
     "text": [
      "1. ADF :  2.884560556030318\n",
      "2. P-Value :  1.0\n",
      "3. Num of Lags :  5\n",
      "4. Num of Observation used for ADF Regression & Critical Values Calc. :  90\n",
      "5. Critical Values : \n",
      "\t 1% :  -3.505190196159122\n",
      "\t 5% :  -2.894232085048011\n",
      "\t 10% :  -2.5842101234567902\n"
     ]
    }
   ],
   "source": [
    "# MONEY SUPPLY ADTEST\n",
    "ad_test(df3['moneysupply'])"
   ]
  },
  {
   "cell_type": "code",
   "execution_count": 52,
   "metadata": {},
   "outputs": [
    {
     "name": "stdout",
     "output_type": "stream",
     "text": [
      "1. ADF :  4.384629277411707\n",
      "2. P-Value :  1.0\n",
      "3. Num of Lags :  2\n",
      "4. Num of Observation used for ADF Regression & Critical Values Calc. :  93\n",
      "5. Critical Values : \n",
      "\t 1% :  -3.502704609582561\n",
      "\t 5% :  -2.8931578098779522\n",
      "\t 10% :  -2.583636712914788\n"
     ]
    }
   ],
   "source": [
    "# GDP ADTEST\n",
    "ad_test(df3['gdpindonesia'])"
   ]
  },
  {
   "cell_type": "markdown",
   "metadata": {},
   "source": [
    "Money supply dan GDP adalah non-stationary process"
   ]
  },
  {
   "cell_type": "markdown",
   "metadata": {},
   "source": [
    "**2. *Visualization and stationarity test of log-transformed variables***"
   ]
  },
  {
   "cell_type": "markdown",
   "metadata": {},
   "source": [
    "Lakukan transformasi logaritma terhadap variabel PDB dan jumlah uang beredar, lalu lakukan inspeksi data secara visual dengan melihat *lineplot* serupa seperti pertanyaan sebelumnya. Lakukan juga uji Augmented Dickey-Fuller untuk menguji stasionaritas variabel."
   ]
  },
  {
   "cell_type": "code",
   "execution_count": 53,
   "metadata": {},
   "outputs": [
    {
     "data": {
      "text/html": [
       "<div>\n",
       "<style scoped>\n",
       "    .dataframe tbody tr th:only-of-type {\n",
       "        vertical-align: middle;\n",
       "    }\n",
       "\n",
       "    .dataframe tbody tr th {\n",
       "        vertical-align: top;\n",
       "    }\n",
       "\n",
       "    .dataframe thead th {\n",
       "        text-align: right;\n",
       "    }\n",
       "</style>\n",
       "<table border=\"1\" class=\"dataframe\">\n",
       "  <thead>\n",
       "    <tr style=\"text-align: right;\">\n",
       "      <th></th>\n",
       "      <th>quarter</th>\n",
       "      <th>moneysupply</th>\n",
       "      <th>gdpindonesia</th>\n",
       "      <th>log_gdpindonesia</th>\n",
       "    </tr>\n",
       "  </thead>\n",
       "  <tbody>\n",
       "    <tr>\n",
       "      <th>0</th>\n",
       "      <td>1990q1</td>\n",
       "      <td>6.482046e+13</td>\n",
       "      <td>6.044571e+13</td>\n",
       "      <td>31.732767</td>\n",
       "    </tr>\n",
       "    <tr>\n",
       "      <th>1</th>\n",
       "      <td>1990q2</td>\n",
       "      <td>7.076678e+13</td>\n",
       "      <td>6.242970e+13</td>\n",
       "      <td>31.765062</td>\n",
       "    </tr>\n",
       "    <tr>\n",
       "      <th>2</th>\n",
       "      <td>1990q3</td>\n",
       "      <td>7.610668e+13</td>\n",
       "      <td>6.448990e+13</td>\n",
       "      <td>31.797530</td>\n",
       "    </tr>\n",
       "    <tr>\n",
       "      <th>3</th>\n",
       "      <td>1990q4</td>\n",
       "      <td>8.221311e+13</td>\n",
       "      <td>6.613757e+13</td>\n",
       "      <td>31.822758</td>\n",
       "    </tr>\n",
       "    <tr>\n",
       "      <th>4</th>\n",
       "      <td>1991q1</td>\n",
       "      <td>8.173774e+13</td>\n",
       "      <td>7.134019e+13</td>\n",
       "      <td>31.898481</td>\n",
       "    </tr>\n",
       "  </tbody>\n",
       "</table>\n",
       "</div>"
      ],
      "text/plain": [
       "  quarter   moneysupply  gdpindonesia  log_gdpindonesia\n",
       "0  1990q1  6.482046e+13  6.044571e+13         31.732767\n",
       "1  1990q2  7.076678e+13  6.242970e+13         31.765062\n",
       "2  1990q3  7.610668e+13  6.448990e+13         31.797530\n",
       "3  1990q4  8.221311e+13  6.613757e+13         31.822758\n",
       "4  1991q1  8.173774e+13  7.134019e+13         31.898481"
      ]
     },
     "execution_count": 53,
     "metadata": {},
     "output_type": "execute_result"
    }
   ],
   "source": [
    "df2['log_gdpindonesia'] = np.log(df2['gdpindonesia'])\n",
    "df2.head()"
   ]
  },
  {
   "cell_type": "code",
   "execution_count": 54,
   "metadata": {},
   "outputs": [
    {
     "data": {
      "text/html": [
       "<div>\n",
       "<style scoped>\n",
       "    .dataframe tbody tr th:only-of-type {\n",
       "        vertical-align: middle;\n",
       "    }\n",
       "\n",
       "    .dataframe tbody tr th {\n",
       "        vertical-align: top;\n",
       "    }\n",
       "\n",
       "    .dataframe thead th {\n",
       "        text-align: right;\n",
       "    }\n",
       "</style>\n",
       "<table border=\"1\" class=\"dataframe\">\n",
       "  <thead>\n",
       "    <tr style=\"text-align: right;\">\n",
       "      <th></th>\n",
       "      <th>quarter</th>\n",
       "      <th>moneysupply</th>\n",
       "      <th>gdpindonesia</th>\n",
       "      <th>log_gdpindonesia</th>\n",
       "      <th>log_moneysupply</th>\n",
       "    </tr>\n",
       "  </thead>\n",
       "  <tbody>\n",
       "    <tr>\n",
       "      <th>0</th>\n",
       "      <td>1990q1</td>\n",
       "      <td>6.482046e+13</td>\n",
       "      <td>6.044571e+13</td>\n",
       "      <td>31.732767</td>\n",
       "      <td>31.802642</td>\n",
       "    </tr>\n",
       "    <tr>\n",
       "      <th>1</th>\n",
       "      <td>1990q2</td>\n",
       "      <td>7.076678e+13</td>\n",
       "      <td>6.242970e+13</td>\n",
       "      <td>31.765062</td>\n",
       "      <td>31.890411</td>\n",
       "    </tr>\n",
       "    <tr>\n",
       "      <th>2</th>\n",
       "      <td>1990q3</td>\n",
       "      <td>7.610668e+13</td>\n",
       "      <td>6.448990e+13</td>\n",
       "      <td>31.797530</td>\n",
       "      <td>31.963157</td>\n",
       "    </tr>\n",
       "    <tr>\n",
       "      <th>3</th>\n",
       "      <td>1990q4</td>\n",
       "      <td>8.221311e+13</td>\n",
       "      <td>6.613757e+13</td>\n",
       "      <td>31.822758</td>\n",
       "      <td>32.040336</td>\n",
       "    </tr>\n",
       "    <tr>\n",
       "      <th>4</th>\n",
       "      <td>1991q1</td>\n",
       "      <td>8.173774e+13</td>\n",
       "      <td>7.134019e+13</td>\n",
       "      <td>31.898481</td>\n",
       "      <td>32.034537</td>\n",
       "    </tr>\n",
       "  </tbody>\n",
       "</table>\n",
       "</div>"
      ],
      "text/plain": [
       "  quarter   moneysupply  gdpindonesia  log_gdpindonesia  log_moneysupply\n",
       "0  1990q1  6.482046e+13  6.044571e+13         31.732767        31.802642\n",
       "1  1990q2  7.076678e+13  6.242970e+13         31.765062        31.890411\n",
       "2  1990q3  7.610668e+13  6.448990e+13         31.797530        31.963157\n",
       "3  1990q4  8.221311e+13  6.613757e+13         31.822758        32.040336\n",
       "4  1991q1  8.173774e+13  7.134019e+13         31.898481        32.034537"
      ]
     },
     "execution_count": 54,
     "metadata": {},
     "output_type": "execute_result"
    }
   ],
   "source": [
    "df2['log_moneysupply'] = np.log(df2['moneysupply'])\n",
    "df2.head()"
   ]
  },
  {
   "cell_type": "code",
   "execution_count": 56,
   "metadata": {},
   "outputs": [],
   "source": [
    "df2 = df2.set_index('quarter')"
   ]
  },
  {
   "cell_type": "code",
   "execution_count": 57,
   "metadata": {},
   "outputs": [
    {
     "data": {
      "image/png": "[encoded data removed]",
      "text/plain": [
       "<Figure size 432x288 with 1 Axes>"
      ]
     },
     "metadata": {
      "needs_background": "light"
     },
     "output_type": "display_data"
    }
   ],
   "source": [
    "plt.plot('log_moneysupply', data=df2, marker='o', markerfacecolor='blue', markersize=4, color='skyblue', linewidth=4)\n",
    "plt.plot('log_gdpindonesia', data=df2, marker='', color='olive', linewidth=2)\n",
    "plt.legend()\n",
    "plt.show()"
   ]
  },
  {
   "cell_type": "code",
   "execution_count": 58,
   "metadata": {},
   "outputs": [
    {
     "name": "stdout",
     "output_type": "stream",
     "text": [
      "1. ADF :  -1.5207440580978535\n",
      "2. P-Value :  0.5232257349197708\n",
      "3. Num of Lags :  5\n",
      "4. Num of Observation used for ADF Regression & Critical Values Calc. :  90\n",
      "5. Critical Values : \n",
      "\t 1% :  -3.505190196159122\n",
      "\t 5% :  -2.894232085048011\n",
      "\t 10% :  -2.5842101234567902\n"
     ]
    }
   ],
   "source": [
    "# LOG MONEY SUPPLY ADTEST\n",
    "ad_test(df2['log_moneysupply'])"
   ]
  },
  {
   "cell_type": "code",
   "execution_count": 59,
   "metadata": {},
   "outputs": [
    {
     "name": "stdout",
     "output_type": "stream",
     "text": [
      "1. ADF :  -1.0752224255898029\n",
      "2. P-Value :  0.7248511085792668\n",
      "3. Num of Lags :  4\n",
      "4. Num of Observation used for ADF Regression & Critical Values Calc. :  91\n",
      "5. Critical Values : \n",
      "\t 1% :  -3.50434289821397\n",
      "\t 5% :  -2.8938659630479413\n",
      "\t 10% :  -2.5840147047458037\n"
     ]
    }
   ],
   "source": [
    "# LOG GDP ADTEST\n",
    "ad_test(df2['log_gdpindonesia'])"
   ]
  },
  {
   "cell_type": "markdown",
   "metadata": {},
   "source": [
    "**3. *Visualization and stationarity test of first-differenced variables***"
   ]
  },
  {
   "cell_type": "markdown",
   "metadata": {},
   "source": [
    "Lakukan *first differencing* terhadap hasil transformasi logaritma PDB dan jumlah uang beredar, lalu lakukan inspeksi data secara visual dengan melihat *lineplot* serupa seperti pertanyaan sebelumnya. Lakukan juga uji Augmented Dickey-Fuller untuk menguji stasionaritas variabel."
   ]
  },
  {
   "cell_type": "code",
   "execution_count": 61,
   "metadata": {},
   "outputs": [
    {
     "data": {
      "text/html": [
       "<div>\n",
       "<style scoped>\n",
       "    .dataframe tbody tr th:only-of-type {\n",
       "        vertical-align: middle;\n",
       "    }\n",
       "\n",
       "    .dataframe tbody tr th {\n",
       "        vertical-align: top;\n",
       "    }\n",
       "\n",
       "    .dataframe thead th {\n",
       "        text-align: right;\n",
       "    }\n",
       "</style>\n",
       "<table border=\"1\" class=\"dataframe\">\n",
       "  <thead>\n",
       "    <tr style=\"text-align: right;\">\n",
       "      <th></th>\n",
       "      <th>moneysupply</th>\n",
       "      <th>gdpindonesia</th>\n",
       "      <th>log_gdpindonesia</th>\n",
       "      <th>log_moneysupply</th>\n",
       "      <th>diff_log_gdpindonesia</th>\n",
       "      <th>diff_log_moneysupply</th>\n",
       "    </tr>\n",
       "    <tr>\n",
       "      <th>quarter</th>\n",
       "      <th></th>\n",
       "      <th></th>\n",
       "      <th></th>\n",
       "      <th></th>\n",
       "      <th></th>\n",
       "      <th></th>\n",
       "    </tr>\n",
       "  </thead>\n",
       "  <tbody>\n",
       "    <tr>\n",
       "      <th>1990q1</th>\n",
       "      <td>6.482046e+13</td>\n",
       "      <td>6.044571e+13</td>\n",
       "      <td>31.732767</td>\n",
       "      <td>31.802642</td>\n",
       "      <td>NaN</td>\n",
       "      <td>NaN</td>\n",
       "    </tr>\n",
       "    <tr>\n",
       "      <th>1990q2</th>\n",
       "      <td>7.076678e+13</td>\n",
       "      <td>6.242970e+13</td>\n",
       "      <td>31.765062</td>\n",
       "      <td>31.890411</td>\n",
       "      <td>0.032295</td>\n",
       "      <td>0.087768</td>\n",
       "    </tr>\n",
       "    <tr>\n",
       "      <th>1990q3</th>\n",
       "      <td>7.610668e+13</td>\n",
       "      <td>6.448990e+13</td>\n",
       "      <td>31.797530</td>\n",
       "      <td>31.963157</td>\n",
       "      <td>0.032468</td>\n",
       "      <td>0.072746</td>\n",
       "    </tr>\n",
       "    <tr>\n",
       "      <th>1990q4</th>\n",
       "      <td>8.221311e+13</td>\n",
       "      <td>6.613757e+13</td>\n",
       "      <td>31.822758</td>\n",
       "      <td>32.040336</td>\n",
       "      <td>0.025228</td>\n",
       "      <td>0.077179</td>\n",
       "    </tr>\n",
       "    <tr>\n",
       "      <th>1991q1</th>\n",
       "      <td>8.173774e+13</td>\n",
       "      <td>7.134019e+13</td>\n",
       "      <td>31.898481</td>\n",
       "      <td>32.034537</td>\n",
       "      <td>0.075723</td>\n",
       "      <td>-0.005799</td>\n",
       "    </tr>\n",
       "  </tbody>\n",
       "</table>\n",
       "</div>"
      ],
      "text/plain": [
       "          moneysupply  gdpindonesia  log_gdpindonesia  log_moneysupply  \\\n",
       "quarter                                                                  \n",
       "1990q1   6.482046e+13  6.044571e+13         31.732767        31.802642   \n",
       "1990q2   7.076678e+13  6.242970e+13         31.765062        31.890411   \n",
       "1990q3   7.610668e+13  6.448990e+13         31.797530        31.963157   \n",
       "1990q4   8.221311e+13  6.613757e+13         31.822758        32.040336   \n",
       "1991q1   8.173774e+13  7.134019e+13         31.898481        32.034537   \n",
       "\n",
       "         diff_log_gdpindonesia  diff_log_moneysupply  \n",
       "quarter                                               \n",
       "1990q1                     NaN                   NaN  \n",
       "1990q2                0.032295              0.087768  \n",
       "1990q3                0.032468              0.072746  \n",
       "1990q4                0.025228              0.077179  \n",
       "1991q1                0.075723             -0.005799  "
      ]
     },
     "execution_count": 61,
     "metadata": {},
     "output_type": "execute_result"
    }
   ],
   "source": [
    "df2['diff_log_gdpindonesia'] = df2['log_gdpindonesia'].diff()\n",
    "df2['diff_log_moneysupply'] = df2['log_moneysupply'].diff()\n",
    "\n",
    "df2.head()"
   ]
  },
  {
   "cell_type": "code",
   "execution_count": 62,
   "metadata": {},
   "outputs": [
    {
     "data": {
      "text/plain": [
       "<AxesSubplot:xlabel='quarter', ylabel='diff_log_gdpindonesia'>"
      ]
     },
     "execution_count": 62,
     "metadata": {},
     "output_type": "execute_result"
    },
    {
     "data": {
      "image/png": "[encoded data removed]",
      "text/plain": [
       "<Figure size 432x288 with 1 Axes>"
      ]
     },
     "metadata": {
      "needs_background": "light"
     },
     "output_type": "display_data"
    }
   ],
   "source": [
    "df2 = df2.dropna()\n",
    "\n",
    "sns.lineplot(data=df2, x='quarter', y='diff_log_gdpindonesia')\n",
    "sns.lineplot(data=df2, x='quarter', y='diff_log_moneysupply')"
   ]
  },
  {
   "cell_type": "code",
   "execution_count": 63,
   "metadata": {},
   "outputs": [
    {
     "name": "stdout",
     "output_type": "stream",
     "text": [
      "1. ADF :  -5.265601336179025\n",
      "2. P-Value :  6.4493363506077895e-06\n",
      "3. Num of Lags :  3\n",
      "4. Num of Observation used for ADF Regression & Critical Values Calc. :  91\n",
      "5. Critical Values : \n",
      "\t 1% :  -3.50434289821397\n",
      "\t 5% :  -2.8938659630479413\n",
      "\t 10% :  -2.5840147047458037\n"
     ]
    }
   ],
   "source": [
    "# DIFF LOG GDP ADTEST\n",
    "ad_test(df2['diff_log_gdpindonesia'])"
   ]
  },
  {
   "cell_type": "code",
   "execution_count": 64,
   "metadata": {},
   "outputs": [
    {
     "name": "stdout",
     "output_type": "stream",
     "text": [
      "1. ADF :  -2.891709682287449\n",
      "2. P-Value :  0.046320576931601666\n",
      "3. Num of Lags :  4\n",
      "4. Num of Observation used for ADF Regression & Critical Values Calc. :  90\n",
      "5. Critical Values : \n",
      "\t 1% :  -3.505190196159122\n",
      "\t 5% :  -2.894232085048011\n",
      "\t 10% :  -2.5842101234567902\n"
     ]
    }
   ],
   "source": [
    "# DIFF LOG MS ADTEST\n",
    "ad_test(df2['diff_log_moneysupply'])"
   ]
  },
  {
   "cell_type": "markdown",
   "metadata": {},
   "source": [
    "Setelah dilakukan 1st diff, kedua variabel menjadi stationary."
   ]
  },
  {
   "cell_type": "markdown",
   "metadata": {},
   "source": [
    "***4. Dataframe conversion***"
   ]
  },
  {
   "cell_type": "code",
   "execution_count": 74,
   "metadata": {},
   "outputs": [],
   "source": [
    "# df2.reset_index(level=0, inplace=True)\n",
    "# df2.head()"
   ]
  },
  {
   "cell_type": "code",
   "execution_count": 70,
   "metadata": {},
   "outputs": [],
   "source": [
    "df2 = df2.drop('level_0', 1)\n",
    "df2 = df2.drop('index', 1)"
   ]
  },
  {
   "cell_type": "code",
   "execution_count": 72,
   "metadata": {},
   "outputs": [
    {
     "data": {
      "text/html": [
       "<div>\n",
       "<style scoped>\n",
       "    .dataframe tbody tr th:only-of-type {\n",
       "        vertical-align: middle;\n",
       "    }\n",
       "\n",
       "    .dataframe tbody tr th {\n",
       "        vertical-align: top;\n",
       "    }\n",
       "\n",
       "    .dataframe thead th {\n",
       "        text-align: right;\n",
       "    }\n",
       "</style>\n",
       "<table border=\"1\" class=\"dataframe\">\n",
       "  <thead>\n",
       "    <tr style=\"text-align: right;\">\n",
       "      <th></th>\n",
       "      <th>quarter</th>\n",
       "      <th>moneysupply</th>\n",
       "      <th>gdpindonesia</th>\n",
       "      <th>log_gdpindonesia</th>\n",
       "      <th>log_moneysupply</th>\n",
       "      <th>diff_log_gdpindonesia</th>\n",
       "      <th>diff_log_moneysupply</th>\n",
       "    </tr>\n",
       "  </thead>\n",
       "  <tbody>\n",
       "    <tr>\n",
       "      <th>1990-06-30</th>\n",
       "      <td>1990q2</td>\n",
       "      <td>7.076678e+13</td>\n",
       "      <td>6.242970e+13</td>\n",
       "      <td>31.765062</td>\n",
       "      <td>31.890411</td>\n",
       "      <td>0.032295</td>\n",
       "      <td>0.087768</td>\n",
       "    </tr>\n",
       "    <tr>\n",
       "      <th>1990-09-30</th>\n",
       "      <td>1990q3</td>\n",
       "      <td>7.610668e+13</td>\n",
       "      <td>6.448990e+13</td>\n",
       "      <td>31.797530</td>\n",
       "      <td>31.963157</td>\n",
       "      <td>0.032468</td>\n",
       "      <td>0.072746</td>\n",
       "    </tr>\n",
       "    <tr>\n",
       "      <th>1990-12-31</th>\n",
       "      <td>1990q4</td>\n",
       "      <td>8.221311e+13</td>\n",
       "      <td>6.613757e+13</td>\n",
       "      <td>31.822758</td>\n",
       "      <td>32.040336</td>\n",
       "      <td>0.025228</td>\n",
       "      <td>0.077179</td>\n",
       "    </tr>\n",
       "    <tr>\n",
       "      <th>1991-03-31</th>\n",
       "      <td>1991q1</td>\n",
       "      <td>8.173774e+13</td>\n",
       "      <td>7.134019e+13</td>\n",
       "      <td>31.898481</td>\n",
       "      <td>32.034537</td>\n",
       "      <td>0.075723</td>\n",
       "      <td>-0.005799</td>\n",
       "    </tr>\n",
       "    <tr>\n",
       "      <th>1991-06-30</th>\n",
       "      <td>1991q2</td>\n",
       "      <td>8.863533e+13</td>\n",
       "      <td>7.392333e+13</td>\n",
       "      <td>31.934050</td>\n",
       "      <td>32.115552</td>\n",
       "      <td>0.035569</td>\n",
       "      <td>0.081015</td>\n",
       "    </tr>\n",
       "  </tbody>\n",
       "</table>\n",
       "</div>"
      ],
      "text/plain": [
       "           quarter   moneysupply  gdpindonesia  log_gdpindonesia  \\\n",
       "1990-06-30  1990q2  7.076678e+13  6.242970e+13         31.765062   \n",
       "1990-09-30  1990q3  7.610668e+13  6.448990e+13         31.797530   \n",
       "1990-12-31  1990q4  8.221311e+13  6.613757e+13         31.822758   \n",
       "1991-03-31  1991q1  8.173774e+13  7.134019e+13         31.898481   \n",
       "1991-06-30  1991q2  8.863533e+13  7.392333e+13         31.934050   \n",
       "\n",
       "            log_moneysupply  diff_log_gdpindonesia  diff_log_moneysupply  \n",
       "1990-06-30        31.890411               0.032295              0.087768  \n",
       "1990-09-30        31.963157               0.032468              0.072746  \n",
       "1990-12-31        32.040336               0.025228              0.077179  \n",
       "1991-03-31        32.034537               0.075723             -0.005799  \n",
       "1991-06-30        32.115552               0.035569              0.081015  "
      ]
     },
     "execution_count": 72,
     "metadata": {},
     "output_type": "execute_result"
    }
   ],
   "source": [
    "quarterly = df2['quarter'].astype(str)\n",
    "quarterly = dates_from_str(quarterly)\n",
    "\n",
    "df2.index = pd.DatetimeIndex(quarterly)\n",
    "df2.head()"
   ]
  },
  {
   "cell_type": "code",
   "execution_count": 76,
   "metadata": {},
   "outputs": [
    {
     "data": {
      "text/html": [
       "<div>\n",
       "<style scoped>\n",
       "    .dataframe tbody tr th:only-of-type {\n",
       "        vertical-align: middle;\n",
       "    }\n",
       "\n",
       "    .dataframe tbody tr th {\n",
       "        vertical-align: top;\n",
       "    }\n",
       "\n",
       "    .dataframe thead th {\n",
       "        text-align: right;\n",
       "    }\n",
       "</style>\n",
       "<table border=\"1\" class=\"dataframe\">\n",
       "  <thead>\n",
       "    <tr style=\"text-align: right;\">\n",
       "      <th></th>\n",
       "      <th>log_gdpindonesia</th>\n",
       "      <th>log_moneysupply</th>\n",
       "    </tr>\n",
       "  </thead>\n",
       "  <tbody>\n",
       "    <tr>\n",
       "      <th>1990-06-30</th>\n",
       "      <td>31.765062</td>\n",
       "      <td>31.890411</td>\n",
       "    </tr>\n",
       "    <tr>\n",
       "      <th>1990-09-30</th>\n",
       "      <td>31.797530</td>\n",
       "      <td>31.963157</td>\n",
       "    </tr>\n",
       "    <tr>\n",
       "      <th>1990-12-31</th>\n",
       "      <td>31.822758</td>\n",
       "      <td>32.040336</td>\n",
       "    </tr>\n",
       "    <tr>\n",
       "      <th>1991-03-31</th>\n",
       "      <td>31.898481</td>\n",
       "      <td>32.034537</td>\n",
       "    </tr>\n",
       "    <tr>\n",
       "      <th>1991-06-30</th>\n",
       "      <td>31.934050</td>\n",
       "      <td>32.115552</td>\n",
       "    </tr>\n",
       "  </tbody>\n",
       "</table>\n",
       "</div>"
      ],
      "text/plain": [
       "            log_gdpindonesia  log_moneysupply\n",
       "1990-06-30         31.765062        31.890411\n",
       "1990-09-30         31.797530        31.963157\n",
       "1990-12-31         31.822758        32.040336\n",
       "1991-03-31         31.898481        32.034537\n",
       "1991-06-30         31.934050        32.115552"
      ]
     },
     "execution_count": 76,
     "metadata": {},
     "output_type": "execute_result"
    }
   ],
   "source": [
    "df2 = df2[['log_gdpindonesia','log_moneysupply']]\n",
    "df2.head()"
   ]
  },
  {
   "cell_type": "code",
   "execution_count": 77,
   "metadata": {},
   "outputs": [
    {
     "data": {
      "text/html": [
       "<div>\n",
       "<style scoped>\n",
       "    .dataframe tbody tr th:only-of-type {\n",
       "        vertical-align: middle;\n",
       "    }\n",
       "\n",
       "    .dataframe tbody tr th {\n",
       "        vertical-align: top;\n",
       "    }\n",
       "\n",
       "    .dataframe thead th {\n",
       "        text-align: right;\n",
       "    }\n",
       "</style>\n",
       "<table border=\"1\" class=\"dataframe\">\n",
       "  <thead>\n",
       "    <tr style=\"text-align: right;\">\n",
       "      <th></th>\n",
       "      <th>log_gdpindonesia</th>\n",
       "      <th>log_moneysupply</th>\n",
       "    </tr>\n",
       "  </thead>\n",
       "  <tbody>\n",
       "    <tr>\n",
       "      <th>1990-09-30</th>\n",
       "      <td>0.001022</td>\n",
       "      <td>0.002279</td>\n",
       "    </tr>\n",
       "    <tr>\n",
       "      <th>1990-12-31</th>\n",
       "      <td>0.000793</td>\n",
       "      <td>0.002412</td>\n",
       "    </tr>\n",
       "    <tr>\n",
       "      <th>1991-03-31</th>\n",
       "      <td>0.002377</td>\n",
       "      <td>-0.000181</td>\n",
       "    </tr>\n",
       "    <tr>\n",
       "      <th>1991-06-30</th>\n",
       "      <td>0.001114</td>\n",
       "      <td>0.002526</td>\n",
       "    </tr>\n",
       "    <tr>\n",
       "      <th>1991-09-30</th>\n",
       "      <td>0.001074</td>\n",
       "      <td>0.001290</td>\n",
       "    </tr>\n",
       "  </tbody>\n",
       "</table>\n",
       "</div>"
      ],
      "text/plain": [
       "            log_gdpindonesia  log_moneysupply\n",
       "1990-09-30          0.001022         0.002279\n",
       "1990-12-31          0.000793         0.002412\n",
       "1991-03-31          0.002377        -0.000181\n",
       "1991-06-30          0.001114         0.002526\n",
       "1991-09-30          0.001074         0.001290"
      ]
     },
     "execution_count": 77,
     "metadata": {},
     "output_type": "execute_result"
    }
   ],
   "source": [
    "df2 = np.log(df2).diff().dropna()\n",
    "df2.head()"
   ]
  },
  {
   "cell_type": "markdown",
   "metadata": {},
   "source": [
    "***5. VAR regression***"
   ]
  },
  {
   "cell_type": "code",
   "execution_count": 78,
   "metadata": {},
   "outputs": [
    {
     "name": "stderr",
     "output_type": "stream",
     "text": [
      "/Applications/anaconda3/lib/python3.8/site-packages/statsmodels/tsa/base/tsa_model.py:524: ValueWarning: No frequency information was provided, so inferred frequency Q-DEC will be used.\n",
      "  warnings.warn('No frequency information was'\n"
     ]
    }
   ],
   "source": [
    "var_model = VAR(df2)"
   ]
  },
  {
   "cell_type": "code",
   "execution_count": 79,
   "metadata": {},
   "outputs": [
    {
     "name": "stdout",
     "output_type": "stream",
     "text": [
      "  Summary of Regression Results   \n",
      "==================================\n",
      "Model:                         VAR\n",
      "Method:                        OLS\n",
      "Date:           Thu, 27, Jan, 2022\n",
      "Time:                     09:17:12\n",
      "--------------------------------------------------------------------\n",
      "No. of Equations:         2.00000    BIC:                   -27.5475\n",
      "Nobs:                     87.0000    HQIC:                  -28.0554\n",
      "Log likelihood:           1018.41    FPE:                4.67730e-13\n",
      "AIC:                     -28.3978    Det(Omega_mle):     3.40278e-13\n",
      "--------------------------------------------------------------------\n",
      "Results for equation log_gdpindonesia\n",
      "======================================================================================\n",
      "                         coefficient       std. error           t-stat            prob\n",
      "--------------------------------------------------------------------------------------\n",
      "const                       0.000758         0.000262            2.900           0.004\n",
      "L1.log_gdpindonesia         0.091344         0.128514            0.711           0.477\n",
      "L1.log_moneysupply          0.186118         0.108039            1.723           0.085\n",
      "L2.log_gdpindonesia         0.307625         0.136716            2.250           0.024\n",
      "L2.log_moneysupply          0.148732         0.109163            1.362           0.173\n",
      "L3.log_gdpindonesia        -0.356700         0.138337           -2.578           0.010\n",
      "L3.log_moneysupply          0.025179         0.106224            0.237           0.813\n",
      "L4.log_gdpindonesia        -0.091356         0.144119           -0.634           0.526\n",
      "L4.log_moneysupply         -0.096736         0.106769           -0.906           0.365\n",
      "L5.log_gdpindonesia         0.172357         0.137073            1.257           0.209\n",
      "L5.log_moneysupply          0.103476         0.102379            1.011           0.312\n",
      "L6.log_gdpindonesia        -0.144993         0.134078           -1.081           0.280\n",
      "L6.log_moneysupply         -0.146902         0.104366           -1.408           0.159\n",
      "L7.log_gdpindonesia         0.022327         0.123047            0.181           0.856\n",
      "L7.log_moneysupply          0.118481         0.100598            1.178           0.239\n",
      "======================================================================================\n",
      "\n",
      "Results for equation log_moneysupply\n",
      "======================================================================================\n",
      "                         coefficient       std. error           t-stat            prob\n",
      "--------------------------------------------------------------------------------------\n",
      "const                       0.000584         0.000300            1.946           0.052\n",
      "L1.log_gdpindonesia         0.533743         0.147506            3.618           0.000\n",
      "L1.log_moneysupply          0.150872         0.124006            1.217           0.224\n",
      "L2.log_gdpindonesia         0.210296         0.156921            1.340           0.180\n",
      "L2.log_moneysupply         -0.148064         0.125296           -1.182           0.237\n",
      "L3.log_gdpindonesia        -0.415105         0.158781           -2.614           0.009\n",
      "L3.log_moneysupply          0.220067         0.121923            1.805           0.071\n",
      "L4.log_gdpindonesia        -0.285969         0.165417           -1.729           0.084\n",
      "L4.log_moneysupply         -0.106109         0.122548           -0.866           0.387\n",
      "L5.log_gdpindonesia         0.089379         0.157331            0.568           0.570\n",
      "L5.log_moneysupply          0.400067         0.117509            3.405           0.001\n",
      "L6.log_gdpindonesia        -0.063178         0.153893           -0.411           0.681\n",
      "L6.log_moneysupply          0.168126         0.119790            1.404           0.160\n",
      "L7.log_gdpindonesia        -0.396393         0.141231           -2.807           0.005\n",
      "L7.log_moneysupply          0.139546         0.115464            1.209           0.227\n",
      "======================================================================================\n",
      "\n",
      "Correlation matrix of residuals\n",
      "                    log_gdpindonesia  log_moneysupply\n",
      "log_gdpindonesia            1.000000         0.445683\n",
      "log_moneysupply             0.445683         1.000000\n",
      "\n",
      "\n",
      "\n"
     ]
    }
   ],
   "source": [
    "res_var_model = var_model.fit(maxlags=12, ic='aic')\n",
    "print(res_var_model.summary())"
   ]
  },
  {
   "cell_type": "markdown",
   "metadata": {},
   "source": [
    "***6. Granger Causality Tests***"
   ]
  },
  {
   "cell_type": "markdown",
   "metadata": {},
   "source": [
    "Lakukan uji Granger Causality untuk menentukan arah kausalitas variabel. Apakah jumlah uang beredar *granger-cause* PDB, atau sebaliknya?"
   ]
  },
  {
   "cell_type": "code",
   "execution_count": 81,
   "metadata": {},
   "outputs": [
    {
     "name": "stdout",
     "output_type": "stream",
     "text": [
      "<statsmodels.tsa.vector_ar.hypothesis_test_results.CausalityTestResults object. H_0: log_moneysupply does not Granger-cause log_gdpindonesia: fail to reject at 5% significance level. Test statistic: 1.696, critical value: 2.074>, p-value: 0.114>\n"
     ]
    }
   ],
   "source": [
    "a = res_var_model.test_causality('log_gdpindonesia', 'log_moneysupply')\n",
    "print(a)"
   ]
  },
  {
   "cell_type": "code",
   "execution_count": 82,
   "metadata": {},
   "outputs": [
    {
     "name": "stdout",
     "output_type": "stream",
     "text": [
      "<statsmodels.tsa.vector_ar.hypothesis_test_results.CausalityTestResults object. H_0: log_gdpindonesia does not Granger-cause log_moneysupply: reject at 5% significance level. Test statistic: 4.111, critical value: 2.074>, p-value: 0.000>\n"
     ]
    }
   ],
   "source": [
    "b = res_var_model.test_causality('log_moneysupply', 'log_gdpindonesia')\n",
    "print(b)"
   ]
  },
  {
   "cell_type": "markdown",
   "metadata": {},
   "source": [
    "- test granger a, p-value nya tidak signifikan.\n",
    "- test granger b, p-value nya signifikan ; GDP growth di Indonesia mempengaruhi Money demand.\n",
    "\n",
    "**aktifitas ekonomi masyarakat lah yang menyebabkan peningkatan uang beredar, dan bukan sebaliknya.**"
   ]
  }
 ],
 "metadata": {
  "kernelspec": {
   "display_name": "Python 3",
   "language": "python",
   "name": "python3"
  },
  "language_info": {
   "codemirror_mode": {
    "name": "ipython",
    "version": 3
   },
   "file_extension": ".py",
   "mimetype": "text/x-python",
   "name": "python",
   "nbconvert_exporter": "python",
   "pygments_lexer": "ipython3",
   "version": "3.8.8"
  }
 },
 "nbformat": 4,
 "nbformat_minor": 4
}
